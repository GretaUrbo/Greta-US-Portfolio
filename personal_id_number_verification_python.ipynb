{
 "cells": [
  {
   "cell_type": "markdown",
   "metadata": {},
   "source": []
  },
  {
   "cell_type": "code",
   "execution_count": 10,
   "metadata": {},
   "outputs": [
    {
     "name": "stdout",
     "output_type": "stream",
     "text": [
      "('Gimimo data 1991-11-24 00:00:00, lytis: Moteris', True)\n"
     ]
    }
   ],
   "source": [
    "from datetime import datetime\n",
    "\n",
    "\n",
    "\n",
    "\n",
    "#vyras/moteris bei šimtmečio extractinimas\n",
    "\n",
    "def validateDate(asmKodas):\n",
    "    codeValid = True\n",
    "    \n",
    "    try:\n",
    "        simtmetis = ''\n",
    "        lytis = 'Vyras'\n",
    "        gimimoData = ''\n",
    "\n",
    "        if asmKodas[0] == '1':\n",
    "            simtmetis = '18'\n",
    "            lytis = \"Vyras\"\n",
    "        elif asmKodas[0] == '2':\n",
    "            simtmetis = '18'\n",
    "            lytis = \"Moteris\"\n",
    "        elif asmKodas[0] == '3':\n",
    "            simtmetis = '19'\n",
    "            lytis = \"Vyras\"\n",
    "        elif asmKodas[0] == '4':\n",
    "            simtmetis = '19'\n",
    "            lytis = \"Moteris\"\n",
    "        elif asmKodas[0] == '5':\n",
    "            simtmetis = '20'\n",
    "            lytis = \"Vyras\"\n",
    "        elif asmKodas[0] == '6':\n",
    "            simtmetis = '20'\n",
    "            lytis = \"Moteris\"\n",
    "        else:\n",
    "            codeValid = False\n",
    "            return 'Asmuo dar negimė, kodas nevalidus', codeValid\n",
    "\n",
    "#menuo-diena\n",
    "\n",
    "        for i in range(1,7):\n",
    "            gimimoData+=asmKodas[i]\n",
    "\n",
    "        gimimoData = simtmetis+gimimoData\n",
    "\n",
    "#pilna gimimo data\n",
    "\n",
    "        gimimoDataFull = datetime.strptime(gimimoData, '%Y%m%d')\n",
    "\n",
    "        return f\"Gimimo data {gimimoDataFull}, lytis: {lytis}\", codeValid\n",
    "        \n",
    "\n",
    "    except:\n",
    "        codeValid = False\n",
    "        return 'Data neegzistuoja', codeValid\n",
    "\n",
    "\n",
    "\n",
    "print(validateDate('49111240586'))\n"
   ]
  },
  {
   "cell_type": "code",
   "execution_count": 1,
   "metadata": {},
   "outputs": [
    {
     "data": {
      "text/plain": [
       "('Kontrolinis skaičius nevalidus ir turėtų būti lygus 0', False)"
      ]
     },
     "execution_count": 1,
     "metadata": {},
     "output_type": "execute_result"
    }
   ],
   "source": [
    "\n",
    "\n",
    "def K_Number(asmKodas):\n",
    "    codeValid = True\n",
    "    kontrolinis = 0\n",
    "    j = 1\n",
    "\n",
    "    #  skaičiuojamas kontrolinis skaičius\n",
    "    for i in range(0, 9):\n",
    "        kontrolinis += int(asmKodas[i]) * j\n",
    "        j += 1\n",
    "    kontrolinis += int(asmKodas[9])\n",
    "\n",
    "    if kontrolinis % 11 != 10:\n",
    "        kontrolinis = kontrolinis % 11\n",
    "    else:\n",
    "        # Jei liekana yra 10, tuomet dar kart1 atliekami kontrolinio skaiciaus skaiciavimai kita logika\n",
    "        kontrolinis = 0\n",
    "        j = 3\n",
    "        for i in range(0, 10):\n",
    "            kontrolinis += int(asmKodas[i]) * j\n",
    "            j += 1\n",
    "            if j == 10:  # Atstatome svorį į 1\n",
    "                j = 1\n",
    "        if kontrolinis % 11 != 10:\n",
    "            kontrolinis = kontrolinis % 11\n",
    "        else:\n",
    "            kontrolinis = 0\n",
    "\n",
    "    # tikrinamas kontrolinis skaicius\n",
    "    if kontrolinis == int(asmKodas[-1]):\n",
    "        return f\"Kontrolinis skaičius validus ir yra lygus {kontrolinis},\", codeValid\n",
    "    else:\n",
    "        codeValid = False\n",
    "        return f\"Kontrolinis skaičius nevalidus ir turėtų būti lygus {kontrolinis}\", codeValid\n",
    "    \n",
    "K_Number('49111230586')"
   ]
  },
  {
   "cell_type": "code",
   "execution_count": 30,
   "metadata": {},
   "outputs": [
    {
     "data": {
      "text/plain": [
       "'Kontrolinis skaičius validus ir yra lygus 6, Asmens kodas validus: True'"
      ]
     },
     "execution_count": 30,
     "metadata": {},
     "output_type": "execute_result"
    }
   ],
   "source": [
    "def validateCode(Code):\n",
    "    dateValid = True\n",
    "    comment = \"\"\n",
    "    if len(Code)!=11:\n",
    "        codeValid = False\n",
    "        return 'Kodas nevalidus, neteisingas ilgis', codeValid\n",
    "    else:\n",
    "        comment, dateValid = validateDate(Code)\n",
    "        if not dateValid:\n",
    "            return comment, dateValid\n",
    "        else:\n",
    "            comment, dateValid = K_Number(Code)\n",
    "            return f\"{comment} Asmens kodas validus: {dateValid}\"\n",
    "       \n",
    "       \n",
    "\n",
    "        \n",
    "\n",
    "validateCode('57512146740')\n",
    "\n",
    "# validateCode('37101123984')\n",
    "\n"
   ]
  }
 ],
 "metadata": {
  "kernelspec": {
   "display_name": "Python 3",
   "language": "python",
   "name": "python3"
  },
  "language_info": {
   "codemirror_mode": {
    "name": "ipython",
    "version": 3
   },
   "file_extension": ".py",
   "mimetype": "text/x-python",
   "name": "python",
   "nbconvert_exporter": "python",
   "pygments_lexer": "ipython3",
   "version": "3.11.9"
  }
 },
 "nbformat": 4,
 "nbformat_minor": 2
}
